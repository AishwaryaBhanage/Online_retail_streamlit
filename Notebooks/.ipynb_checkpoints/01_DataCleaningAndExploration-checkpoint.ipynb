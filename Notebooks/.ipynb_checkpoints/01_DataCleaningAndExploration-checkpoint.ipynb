{
 "cells": [
  {
   "cell_type": "markdown",
   "id": "4bcc0f23",
   "metadata": {},
   "source": [
    "### Online Retail Dataset\n",
    "\n",
    "#### Dataset URL\n",
    "https://archive.ics.uci.edu/ml/machine-learning-databases/00352/Online%20Retail.xlsx"
   ]
  },
  {
   "cell_type": "code",
   "execution_count": 2,
   "id": "5f19112f",
   "metadata": {},
   "outputs": [],
   "source": [
    "#Import libraries\n",
    "import numpy as np\n",
    "import pandas as pd\n",
    "import seaborn as sns\n",
    "import matplotlib.pyplot as plt\n",
    "import squarify as sq\n",
    "\n",
    "import warnings \n",
    "warnings.filterwarnings(\"ignore\")"
   ]
  },
  {
   "cell_type": "code",
   "execution_count": 3,
   "id": "0ad0338f",
   "metadata": {},
   "outputs": [
    {
     "data": {
      "text/html": [
       "<div>\n",
       "<style scoped>\n",
       "    .dataframe tbody tr th:only-of-type {\n",
       "        vertical-align: middle;\n",
       "    }\n",
       "\n",
       "    .dataframe tbody tr th {\n",
       "        vertical-align: top;\n",
       "    }\n",
       "\n",
       "    .dataframe thead th {\n",
       "        text-align: right;\n",
       "    }\n",
       "</style>\n",
       "<table border=\"1\" class=\"dataframe\">\n",
       "  <thead>\n",
       "    <tr style=\"text-align: right;\">\n",
       "      <th></th>\n",
       "      <th>InvoiceNo</th>\n",
       "      <th>StockCode</th>\n",
       "      <th>Description</th>\n",
       "      <th>Quantity</th>\n",
       "      <th>InvoiceDate</th>\n",
       "      <th>UnitPrice</th>\n",
       "      <th>CustomerID</th>\n",
       "      <th>Country</th>\n",
       "    </tr>\n",
       "  </thead>\n",
       "  <tbody>\n",
       "    <tr>\n",
       "      <th>0</th>\n",
       "      <td>536365</td>\n",
       "      <td>85123A</td>\n",
       "      <td>WHITE HANGING HEART T-LIGHT HOLDER</td>\n",
       "      <td>6</td>\n",
       "      <td>2010-12-01 08:26:00</td>\n",
       "      <td>2.55</td>\n",
       "      <td>17850.0</td>\n",
       "      <td>United Kingdom</td>\n",
       "    </tr>\n",
       "    <tr>\n",
       "      <th>1</th>\n",
       "      <td>536365</td>\n",
       "      <td>71053</td>\n",
       "      <td>WHITE METAL LANTERN</td>\n",
       "      <td>6</td>\n",
       "      <td>2010-12-01 08:26:00</td>\n",
       "      <td>3.39</td>\n",
       "      <td>17850.0</td>\n",
       "      <td>United Kingdom</td>\n",
       "    </tr>\n",
       "    <tr>\n",
       "      <th>2</th>\n",
       "      <td>536365</td>\n",
       "      <td>84406B</td>\n",
       "      <td>CREAM CUPID HEARTS COAT HANGER</td>\n",
       "      <td>8</td>\n",
       "      <td>2010-12-01 08:26:00</td>\n",
       "      <td>2.75</td>\n",
       "      <td>17850.0</td>\n",
       "      <td>United Kingdom</td>\n",
       "    </tr>\n",
       "    <tr>\n",
       "      <th>3</th>\n",
       "      <td>536365</td>\n",
       "      <td>84029G</td>\n",
       "      <td>KNITTED UNION FLAG HOT WATER BOTTLE</td>\n",
       "      <td>6</td>\n",
       "      <td>2010-12-01 08:26:00</td>\n",
       "      <td>3.39</td>\n",
       "      <td>17850.0</td>\n",
       "      <td>United Kingdom</td>\n",
       "    </tr>\n",
       "    <tr>\n",
       "      <th>4</th>\n",
       "      <td>536365</td>\n",
       "      <td>84029E</td>\n",
       "      <td>RED WOOLLY HOTTIE WHITE HEART.</td>\n",
       "      <td>6</td>\n",
       "      <td>2010-12-01 08:26:00</td>\n",
       "      <td>3.39</td>\n",
       "      <td>17850.0</td>\n",
       "      <td>United Kingdom</td>\n",
       "    </tr>\n",
       "  </tbody>\n",
       "</table>\n",
       "</div>"
      ],
      "text/plain": [
       "  InvoiceNo StockCode                          Description  Quantity  \\\n",
       "0    536365    85123A   WHITE HANGING HEART T-LIGHT HOLDER         6   \n",
       "1    536365     71053                  WHITE METAL LANTERN         6   \n",
       "2    536365    84406B       CREAM CUPID HEARTS COAT HANGER         8   \n",
       "3    536365    84029G  KNITTED UNION FLAG HOT WATER BOTTLE         6   \n",
       "4    536365    84029E       RED WOOLLY HOTTIE WHITE HEART.         6   \n",
       "\n",
       "          InvoiceDate  UnitPrice  CustomerID         Country  \n",
       "0 2010-12-01 08:26:00       2.55     17850.0  United Kingdom  \n",
       "1 2010-12-01 08:26:00       3.39     17850.0  United Kingdom  \n",
       "2 2010-12-01 08:26:00       2.75     17850.0  United Kingdom  \n",
       "3 2010-12-01 08:26:00       3.39     17850.0  United Kingdom  \n",
       "4 2010-12-01 08:26:00       3.39     17850.0  United Kingdom  "
      ]
     },
     "execution_count": 3,
     "metadata": {},
     "output_type": "execute_result"
    }
   ],
   "source": [
    "#import the dataset online retail and store in reatil_data variable\n",
    "retail_data = pd.read_excel(\"./datasets/Online Retail.xlsx\")\n",
    "\n",
    "#view top 5 records of dataset\n",
    "retail_data.head(5)"
   ]
  },
  {
   "cell_type": "code",
   "execution_count": 4,
   "id": "94c15aa2",
   "metadata": {},
   "outputs": [
    {
     "data": {
      "text/plain": [
       "(541909, 8)"
      ]
     },
     "execution_count": 4,
     "metadata": {},
     "output_type": "execute_result"
    }
   ],
   "source": [
    "#Shape check for dataset\n",
    "retail_data.shape"
   ]
  },
  {
   "cell_type": "markdown",
   "id": "531e0463",
   "metadata": {},
   "source": [
    "<html><I>The dataset has 541,909 records and 8 columns </I></html>"
   ]
  },
  {
   "cell_type": "code",
   "execution_count": 4,
   "id": "48398ba3",
   "metadata": {},
   "outputs": [
    {
     "name": "stdout",
     "output_type": "stream",
     "text": [
      "<class 'pandas.core.frame.DataFrame'>\n",
      "RangeIndex: 541909 entries, 0 to 541908\n",
      "Data columns (total 8 columns):\n",
      " #   Column       Non-Null Count   Dtype         \n",
      "---  ------       --------------   -----         \n",
      " 0   InvoiceNo    541909 non-null  object        \n",
      " 1   StockCode    541909 non-null  object        \n",
      " 2   Description  540455 non-null  object        \n",
      " 3   Quantity     541909 non-null  int64         \n",
      " 4   InvoiceDate  541909 non-null  datetime64[ns]\n",
      " 5   UnitPrice    541909 non-null  float64       \n",
      " 6   CustomerID   406829 non-null  float64       \n",
      " 7   Country      541909 non-null  object        \n",
      "dtypes: datetime64[ns](1), float64(2), int64(1), object(4)\n",
      "memory usage: 33.1+ MB\n"
     ]
    }
   ],
   "source": [
    "# Datatype check for dataset\n",
    "retail_data.info()"
   ]
  },
  {
   "cell_type": "code",
   "execution_count": 5,
   "id": "ef9e38f2",
   "metadata": {},
   "outputs": [
    {
     "data": {
      "text/html": [
       "<div>\n",
       "<style scoped>\n",
       "    .dataframe tbody tr th:only-of-type {\n",
       "        vertical-align: middle;\n",
       "    }\n",
       "\n",
       "    .dataframe tbody tr th {\n",
       "        vertical-align: top;\n",
       "    }\n",
       "\n",
       "    .dataframe thead th {\n",
       "        text-align: right;\n",
       "    }\n",
       "</style>\n",
       "<table border=\"1\" class=\"dataframe\">\n",
       "  <thead>\n",
       "    <tr style=\"text-align: right;\">\n",
       "      <th></th>\n",
       "      <th>Quantity</th>\n",
       "      <th>InvoiceDate</th>\n",
       "      <th>UnitPrice</th>\n",
       "      <th>CustomerID</th>\n",
       "    </tr>\n",
       "  </thead>\n",
       "  <tbody>\n",
       "    <tr>\n",
       "      <th>count</th>\n",
       "      <td>541909.000000</td>\n",
       "      <td>541909</td>\n",
       "      <td>541909.000000</td>\n",
       "      <td>406829.000000</td>\n",
       "    </tr>\n",
       "    <tr>\n",
       "      <th>mean</th>\n",
       "      <td>9.552250</td>\n",
       "      <td>2011-07-04 13:34:57.156386048</td>\n",
       "      <td>4.611114</td>\n",
       "      <td>15287.690570</td>\n",
       "    </tr>\n",
       "    <tr>\n",
       "      <th>min</th>\n",
       "      <td>-80995.000000</td>\n",
       "      <td>2010-12-01 08:26:00</td>\n",
       "      <td>-11062.060000</td>\n",
       "      <td>12346.000000</td>\n",
       "    </tr>\n",
       "    <tr>\n",
       "      <th>25%</th>\n",
       "      <td>1.000000</td>\n",
       "      <td>2011-03-28 11:34:00</td>\n",
       "      <td>1.250000</td>\n",
       "      <td>13953.000000</td>\n",
       "    </tr>\n",
       "    <tr>\n",
       "      <th>50%</th>\n",
       "      <td>3.000000</td>\n",
       "      <td>2011-07-19 17:17:00</td>\n",
       "      <td>2.080000</td>\n",
       "      <td>15152.000000</td>\n",
       "    </tr>\n",
       "    <tr>\n",
       "      <th>75%</th>\n",
       "      <td>10.000000</td>\n",
       "      <td>2011-10-19 11:27:00</td>\n",
       "      <td>4.130000</td>\n",
       "      <td>16791.000000</td>\n",
       "    </tr>\n",
       "    <tr>\n",
       "      <th>max</th>\n",
       "      <td>80995.000000</td>\n",
       "      <td>2011-12-09 12:50:00</td>\n",
       "      <td>38970.000000</td>\n",
       "      <td>18287.000000</td>\n",
       "    </tr>\n",
       "    <tr>\n",
       "      <th>std</th>\n",
       "      <td>218.081158</td>\n",
       "      <td>NaN</td>\n",
       "      <td>96.759853</td>\n",
       "      <td>1713.600303</td>\n",
       "    </tr>\n",
       "  </tbody>\n",
       "</table>\n",
       "</div>"
      ],
      "text/plain": [
       "            Quantity                    InvoiceDate      UnitPrice  \\\n",
       "count  541909.000000                         541909  541909.000000   \n",
       "mean        9.552250  2011-07-04 13:34:57.156386048       4.611114   \n",
       "min    -80995.000000            2010-12-01 08:26:00  -11062.060000   \n",
       "25%         1.000000            2011-03-28 11:34:00       1.250000   \n",
       "50%         3.000000            2011-07-19 17:17:00       2.080000   \n",
       "75%        10.000000            2011-10-19 11:27:00       4.130000   \n",
       "max     80995.000000            2011-12-09 12:50:00   38970.000000   \n",
       "std       218.081158                            NaN      96.759853   \n",
       "\n",
       "          CustomerID  \n",
       "count  406829.000000  \n",
       "mean    15287.690570  \n",
       "min     12346.000000  \n",
       "25%     13953.000000  \n",
       "50%     15152.000000  \n",
       "75%     16791.000000  \n",
       "max     18287.000000  \n",
       "std      1713.600303  "
      ]
     },
     "execution_count": 5,
     "metadata": {},
     "output_type": "execute_result"
    }
   ],
   "source": [
    "# Descriptive stats of the dataset for numerical data\n",
    "retail_data.describe()"
   ]
  },
  {
   "cell_type": "markdown",
   "id": "da366a07",
   "metadata": {},
   "source": [
    "<html><I> This is one year data which has few missing customer id details.\n",
    "<br> Looks like quantity, unitprice has presence of outliers compared to mean and max, min values of it</I></html>"
   ]
  },
  {
   "cell_type": "code",
   "execution_count": 6,
   "id": "6061e550",
   "metadata": {},
   "outputs": [
    {
     "data": {
      "text/html": [
       "<div>\n",
       "<style scoped>\n",
       "    .dataframe tbody tr th:only-of-type {\n",
       "        vertical-align: middle;\n",
       "    }\n",
       "\n",
       "    .dataframe tbody tr th {\n",
       "        vertical-align: top;\n",
       "    }\n",
       "\n",
       "    .dataframe thead th {\n",
       "        text-align: right;\n",
       "    }\n",
       "</style>\n",
       "<table border=\"1\" class=\"dataframe\">\n",
       "  <thead>\n",
       "    <tr style=\"text-align: right;\">\n",
       "      <th></th>\n",
       "      <th>InvoiceNo</th>\n",
       "      <th>StockCode</th>\n",
       "      <th>Description</th>\n",
       "      <th>Country</th>\n",
       "    </tr>\n",
       "  </thead>\n",
       "  <tbody>\n",
       "    <tr>\n",
       "      <th>count</th>\n",
       "      <td>541909</td>\n",
       "      <td>541909</td>\n",
       "      <td>540455</td>\n",
       "      <td>541909</td>\n",
       "    </tr>\n",
       "    <tr>\n",
       "      <th>unique</th>\n",
       "      <td>25900</td>\n",
       "      <td>4070</td>\n",
       "      <td>4223</td>\n",
       "      <td>38</td>\n",
       "    </tr>\n",
       "    <tr>\n",
       "      <th>top</th>\n",
       "      <td>573585</td>\n",
       "      <td>85123A</td>\n",
       "      <td>WHITE HANGING HEART T-LIGHT HOLDER</td>\n",
       "      <td>United Kingdom</td>\n",
       "    </tr>\n",
       "    <tr>\n",
       "      <th>freq</th>\n",
       "      <td>1114</td>\n",
       "      <td>2313</td>\n",
       "      <td>2369</td>\n",
       "      <td>495478</td>\n",
       "    </tr>\n",
       "  </tbody>\n",
       "</table>\n",
       "</div>"
      ],
      "text/plain": [
       "        InvoiceNo StockCode                         Description  \\\n",
       "count      541909    541909                              540455   \n",
       "unique      25900      4070                                4223   \n",
       "top        573585    85123A  WHITE HANGING HEART T-LIGHT HOLDER   \n",
       "freq         1114      2313                                2369   \n",
       "\n",
       "               Country  \n",
       "count           541909  \n",
       "unique              38  \n",
       "top     United Kingdom  \n",
       "freq            495478  "
      ]
     },
     "execution_count": 6,
     "metadata": {},
     "output_type": "execute_result"
    }
   ],
   "source": [
    "## Descriptive stats of the dataset for objet datatype\n",
    "retail_data.describe(include=object)"
   ]
  },
  {
   "cell_type": "markdown",
   "id": "cd5c3f12",
   "metadata": {},
   "source": [
    "<html><I>here few description values are missing \n",
    "<br> \n",
    "the most frequent item in dataset is White hanging heart t-light holder with highest freq of 2369</I></html>"
   ]
  },
  {
   "cell_type": "code",
   "execution_count": 7,
   "id": "2d965554",
   "metadata": {},
   "outputs": [
    {
     "name": "stdout",
     "output_type": "stream",
     "text": [
      "Unique values for customerID:  139452\n",
      "Unique values for Stockcode:  4070\n"
     ]
    }
   ],
   "source": [
    "# lets find unique values for Stock code and customerID\n",
    "print(\"Unique values for customerID: \", len(set(retail_data[\"CustomerID\"])))\n",
    "print(\"Unique values for Stockcode: \", len(set(retail_data[\"StockCode\"])))"
   ]
  },
  {
   "cell_type": "markdown",
   "id": "e1fc1e6c",
   "metadata": {},
   "source": [
    "<html><I> \n",
    "We have total 139,452 unique customer's details in this dataset currently, \n",
    "<br> \n",
    "Lets drop these columns as they are not required for our analysis\n",
    "</I></html>"
   ]
  },
  {
   "cell_type": "code",
   "execution_count": 8,
   "id": "b43c5f62",
   "metadata": {},
   "outputs": [
    {
     "data": {
      "text/plain": [
       "(541909, 6)"
      ]
     },
     "execution_count": 8,
     "metadata": {},
     "output_type": "execute_result"
    }
   ],
   "source": [
    "# dropping CustomerID and Stockcode \n",
    "retail_data = retail_data.drop([\"CustomerID\", \"StockCode\"], axis=1)\n",
    "retail_data.shape"
   ]
  },
  {
   "cell_type": "markdown",
   "id": "3c6df9e3",
   "metadata": {},
   "source": [
    "<html><I>The new shape of dataset is 541,909 records and 6 columns </I></html>"
   ]
  },
  {
   "cell_type": "markdown",
   "id": "90449ef5",
   "metadata": {},
   "source": [
    "### Data Cleaning"
   ]
  },
  {
   "cell_type": "code",
   "execution_count": 9,
   "id": "88cfb4e4",
   "metadata": {},
   "outputs": [
    {
     "data": {
      "text/html": [
       "<div>\n",
       "<style scoped>\n",
       "    .dataframe tbody tr th:only-of-type {\n",
       "        vertical-align: middle;\n",
       "    }\n",
       "\n",
       "    .dataframe tbody tr th {\n",
       "        vertical-align: top;\n",
       "    }\n",
       "\n",
       "    .dataframe thead th {\n",
       "        text-align: right;\n",
       "    }\n",
       "</style>\n",
       "<table border=\"1\" class=\"dataframe\">\n",
       "  <thead>\n",
       "    <tr style=\"text-align: right;\">\n",
       "      <th></th>\n",
       "      <th>InvoiceNo</th>\n",
       "      <th>Description</th>\n",
       "      <th>Quantity</th>\n",
       "      <th>InvoiceDate</th>\n",
       "      <th>UnitPrice</th>\n",
       "      <th>Country</th>\n",
       "    </tr>\n",
       "  </thead>\n",
       "  <tbody>\n",
       "    <tr>\n",
       "      <th>0</th>\n",
       "      <td>536365</td>\n",
       "      <td>WHITE HANGING HEART T-LIGHT HOLDER</td>\n",
       "      <td>6</td>\n",
       "      <td>2010-12-01 08:26:00</td>\n",
       "      <td>2.55</td>\n",
       "      <td>United Kingdom</td>\n",
       "    </tr>\n",
       "    <tr>\n",
       "      <th>1</th>\n",
       "      <td>536365</td>\n",
       "      <td>WHITE METAL LANTERN</td>\n",
       "      <td>6</td>\n",
       "      <td>2010-12-01 08:26:00</td>\n",
       "      <td>3.39</td>\n",
       "      <td>United Kingdom</td>\n",
       "    </tr>\n",
       "    <tr>\n",
       "      <th>2</th>\n",
       "      <td>536365</td>\n",
       "      <td>CREAM CUPID HEARTS COAT HANGER</td>\n",
       "      <td>8</td>\n",
       "      <td>2010-12-01 08:26:00</td>\n",
       "      <td>2.75</td>\n",
       "      <td>United Kingdom</td>\n",
       "    </tr>\n",
       "    <tr>\n",
       "      <th>3</th>\n",
       "      <td>536365</td>\n",
       "      <td>KNITTED UNION FLAG HOT WATER BOTTLE</td>\n",
       "      <td>6</td>\n",
       "      <td>2010-12-01 08:26:00</td>\n",
       "      <td>3.39</td>\n",
       "      <td>United Kingdom</td>\n",
       "    </tr>\n",
       "    <tr>\n",
       "      <th>4</th>\n",
       "      <td>536365</td>\n",
       "      <td>RED WOOLLY HOTTIE WHITE HEART.</td>\n",
       "      <td>6</td>\n",
       "      <td>2010-12-01 08:26:00</td>\n",
       "      <td>3.39</td>\n",
       "      <td>United Kingdom</td>\n",
       "    </tr>\n",
       "  </tbody>\n",
       "</table>\n",
       "</div>"
      ],
      "text/plain": [
       "  InvoiceNo                          Description  Quantity  \\\n",
       "0    536365   WHITE HANGING HEART T-LIGHT HOLDER         6   \n",
       "1    536365                  WHITE METAL LANTERN         6   \n",
       "2    536365       CREAM CUPID HEARTS COAT HANGER         8   \n",
       "3    536365  KNITTED UNION FLAG HOT WATER BOTTLE         6   \n",
       "4    536365       RED WOOLLY HOTTIE WHITE HEART.         6   \n",
       "\n",
       "          InvoiceDate  UnitPrice         Country  \n",
       "0 2010-12-01 08:26:00       2.55  United Kingdom  \n",
       "1 2010-12-01 08:26:00       3.39  United Kingdom  \n",
       "2 2010-12-01 08:26:00       2.75  United Kingdom  \n",
       "3 2010-12-01 08:26:00       3.39  United Kingdom  \n",
       "4 2010-12-01 08:26:00       3.39  United Kingdom  "
      ]
     },
     "execution_count": 9,
     "metadata": {},
     "output_type": "execute_result"
    }
   ],
   "source": [
    "# lets delete the extra spaces if any from object type data.\n",
    "retail_data[\"Description\"] = retail_data[\"Description\"].str.strip()\n",
    "retail_data[\"Country\"] = retail_data[\"Country\"].str.strip()\n",
    "retail_data.head()"
   ]
  },
  {
   "cell_type": "code",
   "execution_count": 10,
   "id": "270034b4",
   "metadata": {},
   "outputs": [
    {
     "data": {
      "text/plain": [
       "25900"
      ]
     },
     "execution_count": 10,
     "metadata": {},
     "output_type": "execute_result"
    }
   ],
   "source": [
    "retail_data['InvoiceNo'].nunique() # that means we have 25900 unqiue customers as per unqiue invoices."
   ]
  },
  {
   "cell_type": "code",
   "execution_count": 11,
   "id": "dd2e0da6",
   "metadata": {},
   "outputs": [
    {
     "name": "stdout",
     "output_type": "stream",
     "text": [
      "InvoiceNo\n",
      "True     9288\n",
      "False       3\n",
      "Name: count, dtype: int64\n"
     ]
    },
    {
     "data": {
      "text/html": [
       "<div>\n",
       "<style scoped>\n",
       "    .dataframe tbody tr th:only-of-type {\n",
       "        vertical-align: middle;\n",
       "    }\n",
       "\n",
       "    .dataframe tbody tr th {\n",
       "        vertical-align: top;\n",
       "    }\n",
       "\n",
       "    .dataframe thead th {\n",
       "        text-align: right;\n",
       "    }\n",
       "</style>\n",
       "<table border=\"1\" class=\"dataframe\">\n",
       "  <thead>\n",
       "    <tr style=\"text-align: right;\">\n",
       "      <th></th>\n",
       "      <th>InvoiceNo</th>\n",
       "      <th>Description</th>\n",
       "      <th>Quantity</th>\n",
       "      <th>InvoiceDate</th>\n",
       "      <th>UnitPrice</th>\n",
       "      <th>Country</th>\n",
       "    </tr>\n",
       "  </thead>\n",
       "  <tbody>\n",
       "    <tr>\n",
       "      <th>299982</th>\n",
       "      <td>A563185</td>\n",
       "      <td>Adjust bad debt</td>\n",
       "      <td>1</td>\n",
       "      <td>2011-08-12 14:50:00</td>\n",
       "      <td>11062.06</td>\n",
       "      <td>United Kingdom</td>\n",
       "    </tr>\n",
       "    <tr>\n",
       "      <th>299983</th>\n",
       "      <td>A563186</td>\n",
       "      <td>Adjust bad debt</td>\n",
       "      <td>1</td>\n",
       "      <td>2011-08-12 14:51:00</td>\n",
       "      <td>-11062.06</td>\n",
       "      <td>United Kingdom</td>\n",
       "    </tr>\n",
       "    <tr>\n",
       "      <th>299984</th>\n",
       "      <td>A563187</td>\n",
       "      <td>Adjust bad debt</td>\n",
       "      <td>1</td>\n",
       "      <td>2011-08-12 14:52:00</td>\n",
       "      <td>-11062.06</td>\n",
       "      <td>United Kingdom</td>\n",
       "    </tr>\n",
       "  </tbody>\n",
       "</table>\n",
       "</div>"
      ],
      "text/plain": [
       "       InvoiceNo      Description  Quantity         InvoiceDate  UnitPrice  \\\n",
       "299982   A563185  Adjust bad debt         1 2011-08-12 14:50:00   11062.06   \n",
       "299983   A563186  Adjust bad debt         1 2011-08-12 14:51:00  -11062.06   \n",
       "299984   A563187  Adjust bad debt         1 2011-08-12 14:52:00  -11062.06   \n",
       "\n",
       "               Country  \n",
       "299982  United Kingdom  \n",
       "299983  United Kingdom  \n",
       "299984  United Kingdom  "
      ]
     },
     "execution_count": 11,
     "metadata": {},
     "output_type": "execute_result"
    }
   ],
   "source": [
    "# Remove the invoiceNo that contain 'C' which are credit transactions that has \n",
    "#'negative quantity' which menas the item returned by the customer\n",
    "\n",
    "print(retail_data['InvoiceNo'].str.contains('C').value_counts())\n",
    "retail_data[retail_data['InvoiceNo'].str.contains('C')==False]"
   ]
  },
  {
   "cell_type": "code",
   "execution_count": 12,
   "id": "66e31bd3",
   "metadata": {},
   "outputs": [],
   "source": [
    "# The invoiceNo with 'A' shows bad debt that is \n",
    "#It can happen that businesses do not receive all of the amount that it has offered in credit to customers, \n",
    "#and such amount becomes uncollectible, also called bad debt.\n",
    "\n",
    "#Bad debt is a type of account receivable for an organisation that has become uncollectible from \n",
    "#the customer due to the customer’s inability to pay the amount of money taken on credit from the organisation."
   ]
  },
  {
   "cell_type": "code",
   "execution_count": 13,
   "id": "0f5cbf4a",
   "metadata": {},
   "outputs": [],
   "source": [
    "retail_data['InvoiceNo']= retail_data['InvoiceNo'].astype(str)\n",
    "retail_data = retail_data[~retail_data['InvoiceNo'].str.contains('C')]"
   ]
  },
  {
   "cell_type": "code",
   "execution_count": 14,
   "id": "0cd15b38",
   "metadata": {},
   "outputs": [
    {
     "data": {
      "text/plain": [
       "(532621, 6)"
      ]
     },
     "execution_count": 14,
     "metadata": {},
     "output_type": "execute_result"
    }
   ],
   "source": [
    "retail_data.shape"
   ]
  },
  {
   "cell_type": "markdown",
   "id": "b7518c6f",
   "metadata": {},
   "source": [
    "#### Remove Null values & Duplicates"
   ]
  },
  {
   "cell_type": "code",
   "execution_count": 15,
   "id": "d4a6d958",
   "metadata": {},
   "outputs": [
    {
     "data": {
      "text/plain": [
       "InvoiceNo         0\n",
       "Description    1455\n",
       "Quantity          0\n",
       "InvoiceDate       0\n",
       "UnitPrice         0\n",
       "Country           0\n",
       "dtype: int64"
      ]
     },
     "execution_count": 15,
     "metadata": {},
     "output_type": "execute_result"
    }
   ],
   "source": [
    "retail_data.isnull().sum()"
   ]
  },
  {
   "cell_type": "code",
   "execution_count": 17,
   "id": "0b342769",
   "metadata": {},
   "outputs": [],
   "source": [
    "retail_data.dropna(inplace=True)"
   ]
  },
  {
   "cell_type": "code",
   "execution_count": 18,
   "id": "69f5cb16",
   "metadata": {},
   "outputs": [
    {
     "data": {
      "text/plain": [
       "InvoiceNo      0\n",
       "Description    0\n",
       "Quantity       0\n",
       "InvoiceDate    0\n",
       "UnitPrice      0\n",
       "Country        0\n",
       "dtype: int64"
      ]
     },
     "execution_count": 18,
     "metadata": {},
     "output_type": "execute_result"
    }
   ],
   "source": [
    "retail_data.isnull().sum()"
   ]
  },
  {
   "cell_type": "code",
   "execution_count": 19,
   "id": "ff8195b9",
   "metadata": {},
   "outputs": [
    {
     "data": {
      "text/html": [
       "<div>\n",
       "<style scoped>\n",
       "    .dataframe tbody tr th:only-of-type {\n",
       "        vertical-align: middle;\n",
       "    }\n",
       "\n",
       "    .dataframe tbody tr th {\n",
       "        vertical-align: top;\n",
       "    }\n",
       "\n",
       "    .dataframe thead th {\n",
       "        text-align: right;\n",
       "    }\n",
       "</style>\n",
       "<table border=\"1\" class=\"dataframe\">\n",
       "  <thead>\n",
       "    <tr style=\"text-align: right;\">\n",
       "      <th></th>\n",
       "      <th>InvoiceNo</th>\n",
       "      <th>Description</th>\n",
       "      <th>Quantity</th>\n",
       "      <th>InvoiceDate</th>\n",
       "      <th>UnitPrice</th>\n",
       "      <th>Country</th>\n",
       "    </tr>\n",
       "  </thead>\n",
       "  <tbody>\n",
       "    <tr>\n",
       "      <th>517</th>\n",
       "      <td>536409</td>\n",
       "      <td>UNION JACK FLAG LUGGAGE TAG</td>\n",
       "      <td>1</td>\n",
       "      <td>2010-12-01 11:45:00</td>\n",
       "      <td>1.25</td>\n",
       "      <td>United Kingdom</td>\n",
       "    </tr>\n",
       "    <tr>\n",
       "      <th>527</th>\n",
       "      <td>536409</td>\n",
       "      <td>HAND WARMER SCOTTY DOG DESIGN</td>\n",
       "      <td>1</td>\n",
       "      <td>2010-12-01 11:45:00</td>\n",
       "      <td>2.10</td>\n",
       "      <td>United Kingdom</td>\n",
       "    </tr>\n",
       "    <tr>\n",
       "      <th>537</th>\n",
       "      <td>536409</td>\n",
       "      <td>SET 2 TEA TOWELS I LOVE LONDON</td>\n",
       "      <td>1</td>\n",
       "      <td>2010-12-01 11:45:00</td>\n",
       "      <td>2.95</td>\n",
       "      <td>United Kingdom</td>\n",
       "    </tr>\n",
       "    <tr>\n",
       "      <th>539</th>\n",
       "      <td>536409</td>\n",
       "      <td>SCOTTIE DOG HOT WATER BOTTLE</td>\n",
       "      <td>1</td>\n",
       "      <td>2010-12-01 11:45:00</td>\n",
       "      <td>4.95</td>\n",
       "      <td>United Kingdom</td>\n",
       "    </tr>\n",
       "    <tr>\n",
       "      <th>555</th>\n",
       "      <td>536412</td>\n",
       "      <td>ROUND SNACK BOXES SET OF 4 SKULLS</td>\n",
       "      <td>1</td>\n",
       "      <td>2010-12-01 11:49:00</td>\n",
       "      <td>2.95</td>\n",
       "      <td>United Kingdom</td>\n",
       "    </tr>\n",
       "    <tr>\n",
       "      <th>...</th>\n",
       "      <td>...</td>\n",
       "      <td>...</td>\n",
       "      <td>...</td>\n",
       "      <td>...</td>\n",
       "      <td>...</td>\n",
       "      <td>...</td>\n",
       "    </tr>\n",
       "    <tr>\n",
       "      <th>541675</th>\n",
       "      <td>581538</td>\n",
       "      <td>BLACK PIRATE TREASURE CHEST</td>\n",
       "      <td>1</td>\n",
       "      <td>2011-12-09 11:34:00</td>\n",
       "      <td>0.39</td>\n",
       "      <td>United Kingdom</td>\n",
       "    </tr>\n",
       "    <tr>\n",
       "      <th>541689</th>\n",
       "      <td>581538</td>\n",
       "      <td>BOX OF 6 MINI VINTAGE CRACKERS</td>\n",
       "      <td>1</td>\n",
       "      <td>2011-12-09 11:34:00</td>\n",
       "      <td>2.49</td>\n",
       "      <td>United Kingdom</td>\n",
       "    </tr>\n",
       "    <tr>\n",
       "      <th>541692</th>\n",
       "      <td>581538</td>\n",
       "      <td>REVOLVER WOODEN RULER</td>\n",
       "      <td>1</td>\n",
       "      <td>2011-12-09 11:34:00</td>\n",
       "      <td>1.95</td>\n",
       "      <td>United Kingdom</td>\n",
       "    </tr>\n",
       "    <tr>\n",
       "      <th>541699</th>\n",
       "      <td>581538</td>\n",
       "      <td>WICKER STAR</td>\n",
       "      <td>1</td>\n",
       "      <td>2011-12-09 11:34:00</td>\n",
       "      <td>2.10</td>\n",
       "      <td>United Kingdom</td>\n",
       "    </tr>\n",
       "    <tr>\n",
       "      <th>541701</th>\n",
       "      <td>581538</td>\n",
       "      <td>JUMBO BAG VINTAGE CHRISTMAS</td>\n",
       "      <td>1</td>\n",
       "      <td>2011-12-09 11:34:00</td>\n",
       "      <td>2.08</td>\n",
       "      <td>United Kingdom</td>\n",
       "    </tr>\n",
       "  </tbody>\n",
       "</table>\n",
       "<p>5310 rows × 6 columns</p>\n",
       "</div>"
      ],
      "text/plain": [
       "       InvoiceNo                        Description  Quantity  \\\n",
       "517       536409        UNION JACK FLAG LUGGAGE TAG         1   \n",
       "527       536409      HAND WARMER SCOTTY DOG DESIGN         1   \n",
       "537       536409     SET 2 TEA TOWELS I LOVE LONDON         1   \n",
       "539       536409       SCOTTIE DOG HOT WATER BOTTLE         1   \n",
       "555       536412  ROUND SNACK BOXES SET OF 4 SKULLS         1   \n",
       "...          ...                                ...       ...   \n",
       "541675    581538        BLACK PIRATE TREASURE CHEST         1   \n",
       "541689    581538     BOX OF 6 MINI VINTAGE CRACKERS         1   \n",
       "541692    581538              REVOLVER WOODEN RULER         1   \n",
       "541699    581538                        WICKER STAR         1   \n",
       "541701    581538        JUMBO BAG VINTAGE CHRISTMAS         1   \n",
       "\n",
       "               InvoiceDate  UnitPrice         Country  \n",
       "517    2010-12-01 11:45:00       1.25  United Kingdom  \n",
       "527    2010-12-01 11:45:00       2.10  United Kingdom  \n",
       "537    2010-12-01 11:45:00       2.95  United Kingdom  \n",
       "539    2010-12-01 11:45:00       4.95  United Kingdom  \n",
       "555    2010-12-01 11:49:00       2.95  United Kingdom  \n",
       "...                    ...        ...             ...  \n",
       "541675 2011-12-09 11:34:00       0.39  United Kingdom  \n",
       "541689 2011-12-09 11:34:00       2.49  United Kingdom  \n",
       "541692 2011-12-09 11:34:00       1.95  United Kingdom  \n",
       "541699 2011-12-09 11:34:00       2.10  United Kingdom  \n",
       "541701 2011-12-09 11:34:00       2.08  United Kingdom  \n",
       "\n",
       "[5310 rows x 6 columns]"
      ]
     },
     "execution_count": 19,
     "metadata": {},
     "output_type": "execute_result"
    }
   ],
   "source": [
    "duplicates = retail_data[retail_data.duplicated()]\n",
    "duplicates"
   ]
  },
  {
   "cell_type": "code",
   "execution_count": 20,
   "id": "7b87110e",
   "metadata": {},
   "outputs": [
    {
     "data": {
      "text/plain": [
       "(525856, 6)"
      ]
     },
     "execution_count": 20,
     "metadata": {},
     "output_type": "execute_result"
    }
   ],
   "source": [
    "#lets remove 5310 duplicate rows found.\n",
    "retail_data = retail_data.drop(duplicates.index)\n",
    "retail_data.shape"
   ]
  },
  {
   "cell_type": "code",
   "execution_count": 21,
   "id": "e9684fcf",
   "metadata": {},
   "outputs": [
    {
     "name": "stdout",
     "output_type": "stream",
     "text": [
      "Country\n",
      "Germany    9027\n",
      "France     8393\n",
      "EIRE       7883\n",
      "Name: count, dtype: int64\n",
      "['Germany', 'France', 'EIRE']\n"
     ]
    }
   ],
   "source": [
    "print(retail_data['Country'].value_counts()[1:4])\n",
    "\n",
    "listOfTop3Countries = list(retail_data['Country'].value_counts()[1:4].index)\n",
    "print(listOfTop3Countries)\n"
   ]
  },
  {
   "cell_type": "markdown",
   "id": "0d40cad1",
   "metadata": {},
   "source": [
    "### Overall top 5 "
   ]
  },
  {
   "cell_type": "code",
   "execution_count": 22,
   "id": "8e03118f",
   "metadata": {},
   "outputs": [
    {
     "data": {
      "text/plain": [
       "(25303, 6)"
      ]
     },
     "execution_count": 22,
     "metadata": {},
     "output_type": "execute_result"
    }
   ],
   "source": [
    "retail_data_3 = retail_data.loc[retail_data[\"Country\"].isin(listOfTop3Countries)].reset_index().drop('index', axis=1)\n",
    "retail_data_3.shape"
   ]
  },
  {
   "cell_type": "code",
   "execution_count": 23,
   "id": "2953aa8a",
   "metadata": {},
   "outputs": [
    {
     "data": {
      "text/html": [
       "<div>\n",
       "<style scoped>\n",
       "    .dataframe tbody tr th:only-of-type {\n",
       "        vertical-align: middle;\n",
       "    }\n",
       "\n",
       "    .dataframe tbody tr th {\n",
       "        vertical-align: top;\n",
       "    }\n",
       "\n",
       "    .dataframe thead th {\n",
       "        text-align: right;\n",
       "    }\n",
       "</style>\n",
       "<table border=\"1\" class=\"dataframe\">\n",
       "  <thead>\n",
       "    <tr style=\"text-align: right;\">\n",
       "      <th></th>\n",
       "      <th>InvoiceNo</th>\n",
       "      <th>Description</th>\n",
       "      <th>Quantity</th>\n",
       "      <th>InvoiceDate</th>\n",
       "      <th>UnitPrice</th>\n",
       "      <th>Country</th>\n",
       "      <th>Total_price</th>\n",
       "    </tr>\n",
       "  </thead>\n",
       "  <tbody>\n",
       "    <tr>\n",
       "      <th>0</th>\n",
       "      <td>536370</td>\n",
       "      <td>ALARM CLOCK BAKELIKE PINK</td>\n",
       "      <td>24</td>\n",
       "      <td>2010-12-01 08:45:00</td>\n",
       "      <td>3.75</td>\n",
       "      <td>France</td>\n",
       "      <td>90.0</td>\n",
       "    </tr>\n",
       "    <tr>\n",
       "      <th>1</th>\n",
       "      <td>536370</td>\n",
       "      <td>ALARM CLOCK BAKELIKE RED</td>\n",
       "      <td>24</td>\n",
       "      <td>2010-12-01 08:45:00</td>\n",
       "      <td>3.75</td>\n",
       "      <td>France</td>\n",
       "      <td>90.0</td>\n",
       "    </tr>\n",
       "  </tbody>\n",
       "</table>\n",
       "</div>"
      ],
      "text/plain": [
       "  InvoiceNo                Description  Quantity         InvoiceDate  \\\n",
       "0    536370  ALARM CLOCK BAKELIKE PINK        24 2010-12-01 08:45:00   \n",
       "1    536370   ALARM CLOCK BAKELIKE RED        24 2010-12-01 08:45:00   \n",
       "\n",
       "   UnitPrice Country  Total_price  \n",
       "0       3.75  France         90.0  \n",
       "1       3.75  France         90.0  "
      ]
     },
     "execution_count": 23,
     "metadata": {},
     "output_type": "execute_result"
    }
   ],
   "source": [
    "retail_data_3['Total_price'] = retail_data_3['UnitPrice'] * retail_data_3['Quantity']\n",
    "retail_data_3.head(2)"
   ]
  },
  {
   "cell_type": "code",
   "execution_count": 24,
   "id": "2a27178c",
   "metadata": {},
   "outputs": [
    {
     "data": {
      "text/html": [
       "<div>\n",
       "<style scoped>\n",
       "    .dataframe tbody tr th:only-of-type {\n",
       "        vertical-align: middle;\n",
       "    }\n",
       "\n",
       "    .dataframe tbody tr th {\n",
       "        vertical-align: top;\n",
       "    }\n",
       "\n",
       "    .dataframe thead th {\n",
       "        text-align: right;\n",
       "    }\n",
       "</style>\n",
       "<table border=\"1\" class=\"dataframe\">\n",
       "  <thead>\n",
       "    <tr style=\"text-align: right;\">\n",
       "      <th></th>\n",
       "      <th>InvoiceNo</th>\n",
       "      <th>Description</th>\n",
       "      <th>Quantity</th>\n",
       "      <th>InvoiceDate</th>\n",
       "      <th>UnitPrice</th>\n",
       "      <th>Country</th>\n",
       "      <th>Total_price</th>\n",
       "      <th>Year</th>\n",
       "      <th>Month</th>\n",
       "      <th>Day</th>\n",
       "    </tr>\n",
       "  </thead>\n",
       "  <tbody>\n",
       "    <tr>\n",
       "      <th>0</th>\n",
       "      <td>536370</td>\n",
       "      <td>ALARM CLOCK BAKELIKE PINK</td>\n",
       "      <td>24</td>\n",
       "      <td>2010-12-01 08:45:00</td>\n",
       "      <td>3.75</td>\n",
       "      <td>France</td>\n",
       "      <td>90.00</td>\n",
       "      <td>2010</td>\n",
       "      <td>12</td>\n",
       "      <td>Wednesday</td>\n",
       "    </tr>\n",
       "    <tr>\n",
       "      <th>1</th>\n",
       "      <td>536370</td>\n",
       "      <td>ALARM CLOCK BAKELIKE RED</td>\n",
       "      <td>24</td>\n",
       "      <td>2010-12-01 08:45:00</td>\n",
       "      <td>3.75</td>\n",
       "      <td>France</td>\n",
       "      <td>90.00</td>\n",
       "      <td>2010</td>\n",
       "      <td>12</td>\n",
       "      <td>Wednesday</td>\n",
       "    </tr>\n",
       "    <tr>\n",
       "      <th>2</th>\n",
       "      <td>536370</td>\n",
       "      <td>ALARM CLOCK BAKELIKE GREEN</td>\n",
       "      <td>12</td>\n",
       "      <td>2010-12-01 08:45:00</td>\n",
       "      <td>3.75</td>\n",
       "      <td>France</td>\n",
       "      <td>45.00</td>\n",
       "      <td>2010</td>\n",
       "      <td>12</td>\n",
       "      <td>Wednesday</td>\n",
       "    </tr>\n",
       "    <tr>\n",
       "      <th>3</th>\n",
       "      <td>536370</td>\n",
       "      <td>PANDA AND BUNNIES STICKER SHEET</td>\n",
       "      <td>12</td>\n",
       "      <td>2010-12-01 08:45:00</td>\n",
       "      <td>0.85</td>\n",
       "      <td>France</td>\n",
       "      <td>10.20</td>\n",
       "      <td>2010</td>\n",
       "      <td>12</td>\n",
       "      <td>Wednesday</td>\n",
       "    </tr>\n",
       "    <tr>\n",
       "      <th>4</th>\n",
       "      <td>536370</td>\n",
       "      <td>STARS GIFT TAPE</td>\n",
       "      <td>24</td>\n",
       "      <td>2010-12-01 08:45:00</td>\n",
       "      <td>0.65</td>\n",
       "      <td>France</td>\n",
       "      <td>15.60</td>\n",
       "      <td>2010</td>\n",
       "      <td>12</td>\n",
       "      <td>Wednesday</td>\n",
       "    </tr>\n",
       "    <tr>\n",
       "      <th>...</th>\n",
       "      <td>...</td>\n",
       "      <td>...</td>\n",
       "      <td>...</td>\n",
       "      <td>...</td>\n",
       "      <td>...</td>\n",
       "      <td>...</td>\n",
       "      <td>...</td>\n",
       "      <td>...</td>\n",
       "      <td>...</td>\n",
       "      <td>...</td>\n",
       "    </tr>\n",
       "    <tr>\n",
       "      <th>25298</th>\n",
       "      <td>581587</td>\n",
       "      <td>PACK OF 20 SPACEBOY NAPKINS</td>\n",
       "      <td>12</td>\n",
       "      <td>2011-12-09 12:50:00</td>\n",
       "      <td>0.85</td>\n",
       "      <td>France</td>\n",
       "      <td>10.20</td>\n",
       "      <td>2011</td>\n",
       "      <td>12</td>\n",
       "      <td>Friday</td>\n",
       "    </tr>\n",
       "    <tr>\n",
       "      <th>25299</th>\n",
       "      <td>581587</td>\n",
       "      <td>CHILDREN'S APRON DOLLY GIRL</td>\n",
       "      <td>6</td>\n",
       "      <td>2011-12-09 12:50:00</td>\n",
       "      <td>2.10</td>\n",
       "      <td>France</td>\n",
       "      <td>12.60</td>\n",
       "      <td>2011</td>\n",
       "      <td>12</td>\n",
       "      <td>Friday</td>\n",
       "    </tr>\n",
       "    <tr>\n",
       "      <th>25300</th>\n",
       "      <td>581587</td>\n",
       "      <td>CHILDRENS CUTLERY DOLLY GIRL</td>\n",
       "      <td>4</td>\n",
       "      <td>2011-12-09 12:50:00</td>\n",
       "      <td>4.15</td>\n",
       "      <td>France</td>\n",
       "      <td>16.60</td>\n",
       "      <td>2011</td>\n",
       "      <td>12</td>\n",
       "      <td>Friday</td>\n",
       "    </tr>\n",
       "    <tr>\n",
       "      <th>25301</th>\n",
       "      <td>581587</td>\n",
       "      <td>CHILDRENS CUTLERY CIRCUS PARADE</td>\n",
       "      <td>4</td>\n",
       "      <td>2011-12-09 12:50:00</td>\n",
       "      <td>4.15</td>\n",
       "      <td>France</td>\n",
       "      <td>16.60</td>\n",
       "      <td>2011</td>\n",
       "      <td>12</td>\n",
       "      <td>Friday</td>\n",
       "    </tr>\n",
       "    <tr>\n",
       "      <th>25302</th>\n",
       "      <td>581587</td>\n",
       "      <td>BAKING SET 9 PIECE RETROSPOT</td>\n",
       "      <td>3</td>\n",
       "      <td>2011-12-09 12:50:00</td>\n",
       "      <td>4.95</td>\n",
       "      <td>France</td>\n",
       "      <td>14.85</td>\n",
       "      <td>2011</td>\n",
       "      <td>12</td>\n",
       "      <td>Friday</td>\n",
       "    </tr>\n",
       "  </tbody>\n",
       "</table>\n",
       "<p>25303 rows × 10 columns</p>\n",
       "</div>"
      ],
      "text/plain": [
       "      InvoiceNo                      Description  Quantity  \\\n",
       "0        536370        ALARM CLOCK BAKELIKE PINK        24   \n",
       "1        536370         ALARM CLOCK BAKELIKE RED        24   \n",
       "2        536370       ALARM CLOCK BAKELIKE GREEN        12   \n",
       "3        536370  PANDA AND BUNNIES STICKER SHEET        12   \n",
       "4        536370                  STARS GIFT TAPE        24   \n",
       "...         ...                              ...       ...   \n",
       "25298    581587      PACK OF 20 SPACEBOY NAPKINS        12   \n",
       "25299    581587      CHILDREN'S APRON DOLLY GIRL         6   \n",
       "25300    581587     CHILDRENS CUTLERY DOLLY GIRL         4   \n",
       "25301    581587  CHILDRENS CUTLERY CIRCUS PARADE         4   \n",
       "25302    581587     BAKING SET 9 PIECE RETROSPOT         3   \n",
       "\n",
       "              InvoiceDate  UnitPrice Country  Total_price  Year  Month  \\\n",
       "0     2010-12-01 08:45:00       3.75  France        90.00  2010     12   \n",
       "1     2010-12-01 08:45:00       3.75  France        90.00  2010     12   \n",
       "2     2010-12-01 08:45:00       3.75  France        45.00  2010     12   \n",
       "3     2010-12-01 08:45:00       0.85  France        10.20  2010     12   \n",
       "4     2010-12-01 08:45:00       0.65  France        15.60  2010     12   \n",
       "...                   ...        ...     ...          ...   ...    ...   \n",
       "25298 2011-12-09 12:50:00       0.85  France        10.20  2011     12   \n",
       "25299 2011-12-09 12:50:00       2.10  France        12.60  2011     12   \n",
       "25300 2011-12-09 12:50:00       4.15  France        16.60  2011     12   \n",
       "25301 2011-12-09 12:50:00       4.15  France        16.60  2011     12   \n",
       "25302 2011-12-09 12:50:00       4.95  France        14.85  2011     12   \n",
       "\n",
       "             Day  \n",
       "0      Wednesday  \n",
       "1      Wednesday  \n",
       "2      Wednesday  \n",
       "3      Wednesday  \n",
       "4      Wednesday  \n",
       "...          ...  \n",
       "25298     Friday  \n",
       "25299     Friday  \n",
       "25300     Friday  \n",
       "25301     Friday  \n",
       "25302     Friday  \n",
       "\n",
       "[25303 rows x 10 columns]"
      ]
     },
     "execution_count": 24,
     "metadata": {},
     "output_type": "execute_result"
    }
   ],
   "source": [
    "retail_data_3['Year'] = retail_data_3['InvoiceDate'].dt.year\n",
    "retail_data_3['Month'] = retail_data_3['InvoiceDate'].dt.month\n",
    "retail_data_3['Day'] = retail_data_3['InvoiceDate'].dt.day_name()\n",
    "retail_data_3"
   ]
  },
  {
   "cell_type": "code",
   "execution_count": 25,
   "id": "7bac8615",
   "metadata": {},
   "outputs": [
    {
     "name": "stdout",
     "output_type": "stream",
     "text": [
      "object\n",
      "category\n"
     ]
    }
   ],
   "source": [
    "print(retail_data_3['Day'].dtype)\n",
    "retail_data_3['Day'] = pd.Categorical(retail_data_3['Day'],\n",
    "                                      categories = ['Sunday','Monday','Tuesday','Wednesday','Thursday','Friday'],\n",
    "                                      ordered = True)\n",
    "print(retail_data_3['Day'].dtype)"
   ]
  },
  {
   "cell_type": "code",
   "execution_count": 25,
   "id": "04aa7d2c",
   "metadata": {},
   "outputs": [
    {
     "data": {
      "text/plain": [
       "Text(0, 0.5, 'Total Sales')"
      ]
     },
     "execution_count": 25,
     "metadata": {},
     "output_type": "execute_result"
    },
    {
     "data": {
      "image/png": "[encoded data removed]",
      "text/plain": [
       "<Figure size 640x480 with 1 Axes>"
      ]
     },
     "metadata": {},
     "output_type": "display_data"
    }
   ],
   "source": [
    "sns.barplot(x=retail_data_3['Day'], y=retail_data_3['Total_price'])\n",
    "plt.title(\"Sales on different Days of the Week\")\n",
    "\n",
    "plt.xlabel(\"Days of the Week\")\n",
    "plt.ylabel(\"Total Sales\")"
   ]
  },
  {
   "cell_type": "code",
   "execution_count": 26,
   "id": "5319e078",
   "metadata": {},
   "outputs": [
    {
     "data": {
      "text/html": [
       "<div>\n",
       "<style scoped>\n",
       "    .dataframe tbody tr th:only-of-type {\n",
       "        vertical-align: middle;\n",
       "    }\n",
       "\n",
       "    .dataframe tbody tr th {\n",
       "        vertical-align: top;\n",
       "    }\n",
       "\n",
       "    .dataframe thead th {\n",
       "        text-align: right;\n",
       "    }\n",
       "</style>\n",
       "<table border=\"1\" class=\"dataframe\">\n",
       "  <thead>\n",
       "    <tr style=\"text-align: right;\">\n",
       "      <th>Day</th>\n",
       "      <th>Sunday</th>\n",
       "      <th>Monday</th>\n",
       "      <th>Tuesday</th>\n",
       "      <th>Wednesday</th>\n",
       "      <th>Thursday</th>\n",
       "      <th>Friday</th>\n",
       "    </tr>\n",
       "    <tr>\n",
       "      <th>Month</th>\n",
       "      <th></th>\n",
       "      <th></th>\n",
       "      <th></th>\n",
       "      <th></th>\n",
       "      <th></th>\n",
       "      <th></th>\n",
       "    </tr>\n",
       "  </thead>\n",
       "  <tbody>\n",
       "    <tr>\n",
       "      <th>1</th>\n",
       "      <td>26.073529</td>\n",
       "      <td>27.736449</td>\n",
       "      <td>33.653525</td>\n",
       "      <td>19.702121</td>\n",
       "      <td>35.612090</td>\n",
       "      <td>52.542125</td>\n",
       "    </tr>\n",
       "    <tr>\n",
       "      <th>2</th>\n",
       "      <td>22.120000</td>\n",
       "      <td>25.742900</td>\n",
       "      <td>27.705733</td>\n",
       "      <td>27.123254</td>\n",
       "      <td>25.886037</td>\n",
       "      <td>26.280246</td>\n",
       "    </tr>\n",
       "    <tr>\n",
       "      <th>3</th>\n",
       "      <td>20.986212</td>\n",
       "      <td>16.235520</td>\n",
       "      <td>30.120904</td>\n",
       "      <td>26.606296</td>\n",
       "      <td>50.320064</td>\n",
       "      <td>31.329326</td>\n",
       "    </tr>\n",
       "    <tr>\n",
       "      <th>4</th>\n",
       "      <td>19.231429</td>\n",
       "      <td>30.124656</td>\n",
       "      <td>32.915846</td>\n",
       "      <td>25.643309</td>\n",
       "      <td>23.300165</td>\n",
       "      <td>24.168544</td>\n",
       "    </tr>\n",
       "    <tr>\n",
       "      <th>5</th>\n",
       "      <td>20.353837</td>\n",
       "      <td>26.603971</td>\n",
       "      <td>23.149388</td>\n",
       "      <td>25.823189</td>\n",
       "      <td>38.144192</td>\n",
       "      <td>43.956684</td>\n",
       "    </tr>\n",
       "    <tr>\n",
       "      <th>6</th>\n",
       "      <td>33.494457</td>\n",
       "      <td>28.657287</td>\n",
       "      <td>20.350833</td>\n",
       "      <td>39.025356</td>\n",
       "      <td>18.892363</td>\n",
       "      <td>33.149180</td>\n",
       "    </tr>\n",
       "    <tr>\n",
       "      <th>7</th>\n",
       "      <td>88.622818</td>\n",
       "      <td>21.706246</td>\n",
       "      <td>40.982201</td>\n",
       "      <td>24.928216</td>\n",
       "      <td>37.953816</td>\n",
       "      <td>22.025829</td>\n",
       "    </tr>\n",
       "    <tr>\n",
       "      <th>8</th>\n",
       "      <td>20.368750</td>\n",
       "      <td>22.187148</td>\n",
       "      <td>18.280045</td>\n",
       "      <td>33.770731</td>\n",
       "      <td>33.535015</td>\n",
       "      <td>19.271221</td>\n",
       "    </tr>\n",
       "    <tr>\n",
       "      <th>9</th>\n",
       "      <td>19.882963</td>\n",
       "      <td>47.925552</td>\n",
       "      <td>29.576859</td>\n",
       "      <td>19.121203</td>\n",
       "      <td>29.093594</td>\n",
       "      <td>30.801538</td>\n",
       "    </tr>\n",
       "    <tr>\n",
       "      <th>10</th>\n",
       "      <td>19.900000</td>\n",
       "      <td>24.052309</td>\n",
       "      <td>19.964730</td>\n",
       "      <td>26.001347</td>\n",
       "      <td>36.322416</td>\n",
       "      <td>44.978458</td>\n",
       "    </tr>\n",
       "    <tr>\n",
       "      <th>11</th>\n",
       "      <td>28.273036</td>\n",
       "      <td>21.173200</td>\n",
       "      <td>24.006099</td>\n",
       "      <td>31.457106</td>\n",
       "      <td>23.560828</td>\n",
       "      <td>20.271685</td>\n",
       "    </tr>\n",
       "    <tr>\n",
       "      <th>12</th>\n",
       "      <td>21.860778</td>\n",
       "      <td>25.967538</td>\n",
       "      <td>23.210995</td>\n",
       "      <td>24.950308</td>\n",
       "      <td>21.797419</td>\n",
       "      <td>30.118342</td>\n",
       "    </tr>\n",
       "  </tbody>\n",
       "</table>\n",
       "</div>"
      ],
      "text/plain": [
       "Day       Sunday     Monday    Tuesday  Wednesday   Thursday     Friday\n",
       "Month                                                                  \n",
       "1      26.073529  27.736449  33.653525  19.702121  35.612090  52.542125\n",
       "2      22.120000  25.742900  27.705733  27.123254  25.886037  26.280246\n",
       "3      20.986212  16.235520  30.120904  26.606296  50.320064  31.329326\n",
       "4      19.231429  30.124656  32.915846  25.643309  23.300165  24.168544\n",
       "5      20.353837  26.603971  23.149388  25.823189  38.144192  43.956684\n",
       "6      33.494457  28.657287  20.350833  39.025356  18.892363  33.149180\n",
       "7      88.622818  21.706246  40.982201  24.928216  37.953816  22.025829\n",
       "8      20.368750  22.187148  18.280045  33.770731  33.535015  19.271221\n",
       "9      19.882963  47.925552  29.576859  19.121203  29.093594  30.801538\n",
       "10     19.900000  24.052309  19.964730  26.001347  36.322416  44.978458\n",
       "11     28.273036  21.173200  24.006099  31.457106  23.560828  20.271685\n",
       "12     21.860778  25.967538  23.210995  24.950308  21.797419  30.118342"
      ]
     },
     "execution_count": 26,
     "metadata": {},
     "output_type": "execute_result"
    }
   ],
   "source": [
    "retail_data_3_pivot = retail_data_3.pivot_table(values = 'Total_price', index = 'Month', columns = 'Day', aggfunc= 'mean')\n",
    "retail_data_3_pivot"
   ]
  },
  {
   "cell_type": "code",
   "execution_count": 27,
   "id": "3c50b571",
   "metadata": {},
   "outputs": [
    {
     "data": {
      "text/plain": [
       "<Axes: xlabel='Day', ylabel='Month'>"
      ]
     },
     "execution_count": 27,
     "metadata": {},
     "output_type": "execute_result"
    },
    {
     "data": {
      "image/png": "[encoded data removed]",
      "text/plain": [
       "<Figure size 640x480 with 2 Axes>"
      ]
     },
     "metadata": {},
     "output_type": "display_data"
    }
   ],
   "source": [
    "sns.heatmap(retail_data_3_pivot, annot=True)"
   ]
  },
  {
   "cell_type": "code",
   "execution_count": 28,
   "id": "2b36faac",
   "metadata": {},
   "outputs": [
    {
     "data": {
      "text/plain": [
       "<Axes: xlabel='Description'>"
      ]
     },
     "execution_count": 28,
     "metadata": {},
     "output_type": "execute_result"
    },
    {
     "data": {
      "image/png": "[encoded data removed]",
      "text/plain": [
       "<Figure size 640x480 with 1 Axes>"
      ]
     },
     "metadata": {},
     "output_type": "display_data"
    }
   ],
   "source": [
    "# Check for Top 10 products\n",
    "overall_top10_freq_products = retail_data_3['Description'].value_counts().sort_values(ascending=False).head(10)\n",
    "overall_top10_freq_products.plot.bar()"
   ]
  },
  {
   "cell_type": "code",
   "execution_count": 29,
   "id": "6bfac103",
   "metadata": {},
   "outputs": [
    {
     "data": {
      "text/plain": [
       "Description\n",
       "False    24629\n",
       "True       674\n",
       "Name: count, dtype: int64"
      ]
     },
     "execution_count": 29,
     "metadata": {},
     "output_type": "execute_result"
    }
   ],
   "source": [
    "# lets remove postage as we do not require this shipment details\n",
    "postage = retail_data_3['Description'] == 'POSTAGE'\n",
    "postage.value_counts()"
   ]
  },
  {
   "cell_type": "code",
   "execution_count": 30,
   "id": "e75a26a9",
   "metadata": {},
   "outputs": [
    {
     "data": {
      "text/plain": [
       "(24629, 10)"
      ]
     },
     "execution_count": 30,
     "metadata": {},
     "output_type": "execute_result"
    }
   ],
   "source": [
    "retail_data_3 = retail_data_3.drop(retail_data_3[postage].index)\n",
    "retail_data_3.shape"
   ]
  },
  {
   "cell_type": "code",
   "execution_count": 31,
   "id": "ab5305c2",
   "metadata": {},
   "outputs": [
    {
     "data": {
      "text/plain": [
       "<Axes: xlabel='Description'>"
      ]
     },
     "execution_count": 31,
     "metadata": {},
     "output_type": "execute_result"
    },
    {
     "data": {
      "image/png": "[encoded data removed]",
      "text/plain": [
       "<Figure size 640x480 with 1 Axes>"
      ]
     },
     "metadata": {},
     "output_type": "display_data"
    }
   ],
   "source": [
    "overall_top10_freq_products = retail_data_3['Description'].value_counts().sort_values(ascending=False).head(10)\n",
    "overall_top10_freq_products.plot.bar()"
   ]
  },
  {
   "cell_type": "code",
   "execution_count": null,
   "id": "d51bfc50",
   "metadata": {},
   "outputs": [],
   "source": []
  },
  {
   "cell_type": "markdown",
   "id": "a10f5c67",
   "metadata": {},
   "source": [
    "### Country wise"
   ]
  },
  {
   "cell_type": "code",
   "execution_count": 58,
   "id": "aa7582f3",
   "metadata": {},
   "outputs": [
    {
     "data": {
      "text/plain": [
       "Text(0, 0.5, 'Total Sales')"
      ]
     },
     "execution_count": 58,
     "metadata": {},
     "output_type": "execute_result"
    },
    {
     "data": {
      "image/png": "[encoded data removed]",
      "text/plain": [
       "<Figure size 1200x1000 with 4 Axes>"
      ]
     },
     "metadata": {},
     "output_type": "display_data"
    }
   ],
   "source": [
    "fig = plt.figure(figsize=(12, 10))\n",
    "\n",
    "#plot 1 - Germany\n",
    "plt.subplot(2,2,1)\n",
    "sns.barplot(x=retail_data_3[retail_data_3['Country']=='Germany']['Day'], y=retail_data_3[retail_data_3['Country']=='Germany']['Total_price'])\n",
    "plt.title(\"Sales on diff days of week for Germany\")\n",
    "plt.xlabel(\"Days of the Week\")\n",
    "plt.ylabel(\"Total Sales\")\n",
    "\n",
    "#plot 2 - France\n",
    "plt.subplot(2,2,2)\n",
    "sns.barplot(x=retail_data_3[retail_data_3['Country']=='France']['Day'], y=retail_data_3[retail_data_3['Country']=='France']['Total_price'])\n",
    "plt.title(\"Sales on diff days of week for France\")\n",
    "plt.xlabel(\"Days of the Week\")\n",
    "plt.ylabel(\"Total Sales\")\n",
    "\n",
    "#plot 3 - EIRE\n",
    "plt.subplot(2,2,3)\n",
    "sns.barplot(x=retail_data_3[retail_data_3['Country']=='EIRE']['Day'], y=retail_data_3[retail_data_3['Country']=='EIRE']['Total_price'])\n",
    "plt.title(\"Sales on diff days of week for EIRE\")\n",
    "plt.xlabel(\"Days of the Week\")\n",
    "plt.ylabel(\"Total Sales\")\n",
    "\n",
    "#plot 4- Overall\n",
    "plt.subplot(2,2,4)\n",
    "sns.barplot(x=retail_data_3['Day'], y=retail_data_3['Total_price'])\n",
    "plt.title(\"Sales on diff days of week\")\n",
    "plt.xlabel(\"Days of the Week\")\n",
    "plt.ylabel(\"Total Sales\")"
   ]
  },
  {
   "cell_type": "code",
   "execution_count": null,
   "id": "036d2932",
   "metadata": {},
   "outputs": [],
   "source": [
    "### Top 5 products overall and countrywise comparison"
   ]
  },
  {
   "cell_type": "code",
   "execution_count": null,
   "id": "dcd75f06",
   "metadata": {},
   "outputs": [],
   "source": [
    "fig = plt.figure(figsize=(12, 10))\n",
    "\n",
    "overall_top10_freq_products = retail_data_3['Description'].value_counts().sort_values(ascending=False).head(10)\n",
    "\n",
    "#plot 1 - Germany\n",
    "plt.subplot(2,2,1)\n",
    "sns.barplot(x=retail_data_3[retail_data_3['Country']=='Germany']['Day'], y=retail_data_3[retail_data_3['Country']=='Germany']['Total_price'])\n",
    "\n",
    "\n",
    "#plot 2 - France\n",
    "plt.subplot(2,2,2)\n",
    "sns.barplot(x=retail_data_3[retail_data_3['Country']=='France']['Day'], y=retail_data_3[retail_data_3['Country']=='France']['Total_price'])\n",
    "\n",
    "\n",
    "#plot 3 - EIRE\n",
    "plt.subplot(2,2,3)\n",
    "sns.barplot(x=retail_data_3[retail_data_3['Country']=='EIRE']['Day'], y=retail_data_3[retail_data_3['Country']=='EIRE']['Total_price'])\n",
    "\n",
    "\n",
    "#plot 4- Overall\n",
    "plt.subplot(2,2,4)\n",
    "sns.barplot(x=retail_data_3['Day'], y=retail_data_3['Total_price'])\n",
    "\n"
   ]
  },
  {
   "cell_type": "code",
   "execution_count": null,
   "id": "3ba1be15",
   "metadata": {},
   "outputs": [],
   "source": []
  },
  {
   "cell_type": "code",
   "execution_count": null,
   "id": "27a1514c",
   "metadata": {},
   "outputs": [],
   "source": []
  },
  {
   "cell_type": "code",
   "execution_count": null,
   "id": "f5caba64",
   "metadata": {},
   "outputs": [],
   "source": []
  },
  {
   "cell_type": "code",
   "execution_count": null,
   "id": "363af5db",
   "metadata": {},
   "outputs": [],
   "source": []
  }
 ],
 "metadata": {
  "kernelspec": {
   "display_name": "Python 3 (ipykernel)",
   "language": "python",
   "name": "python3"
  },
  "language_info": {
   "codemirror_mode": {
    "name": "ipython",
    "version": 3
   },
   "file_extension": ".py",
   "mimetype": "text/x-python",
   "name": "python",
   "nbconvert_exporter": "python",
   "pygments_lexer": "ipython3",
   "version": "3.10.10"
  }
 },
 "nbformat": 4,
 "nbformat_minor": 5
}
